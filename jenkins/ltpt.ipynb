{
 "cells": [
  {
   "cell_type": "code",
   "execution_count": 5,
   "metadata": {},
   "outputs": [],
   "source": [
    "import pandas as pd\n",
    "import numpy as np\n",
    "from sklearn.linear_model import LinearRegression\n",
    "import random"
   ]
  },
  {
   "cell_type": "code",
   "execution_count": 13,
   "metadata": {},
   "outputs": [],
   "source": [
    "# make table data\n",
    "col_names = ['x1', 'x2','x3','y']\n",
    "data = pd.DataFrame(columns=col_names)\n",
    "data['x1'] = np.array(random.sample(range(-10, 10), 4))\n",
    "data['x2'] = np.array(random.sample(range(-10, 10), 4))\n",
    "data['x3'] = np.array(random.random()*4)\n",
    "data['y'] = data['x1']*3 - data['x2']*7 + data['x3']"
   ]
  },
  {
   "cell_type": "code",
   "execution_count": 31,
   "metadata": {},
   "outputs": [
    {
     "name": "stdout",
     "output_type": "stream",
     "text": [
      "[ 3. -7.  0.]\n"
     ]
    }
   ],
   "source": [
    "\n",
    "y = np.array(data['y'])\n",
    "X_train = np.array(data[['x1','x2','x3']])\n",
    "model = LinearRegression()\n",
    "model.fit(X_train, y)\n",
    "print(model.coef_)"
   ]
  }
 ],
 "metadata": {
  "kernelspec": {
   "display_name": "base",
   "language": "python",
   "name": "python3"
  },
  "language_info": {
   "codemirror_mode": {
    "name": "ipython",
    "version": 3
   },
   "file_extension": ".py",
   "mimetype": "text/x-python",
   "name": "python",
   "nbconvert_exporter": "python",
   "pygments_lexer": "ipython3",
   "version": "3.12.4"
  }
 },
 "nbformat": 4,
 "nbformat_minor": 2
}
